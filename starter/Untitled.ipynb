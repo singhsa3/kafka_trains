{
 "cells": [
  {
   "cell_type": "code",
   "execution_count": 2,
   "metadata": {},
   "outputs": [],
   "source": []
  },
  {
   "cell_type": "code",
   "execution_count": null,
   "metadata": {},
   "outputs": [],
   "source": [
    "scott = Student('Scott',  'Robinson')"
   ]
  },
  {
   "cell_type": "code",
   "execution_count": null,
   "metadata": {},
   "outputs": [],
   "source": [
    "scott"
   ]
  },
  {
   "cell_type": "code",
   "execution_count": 4,
   "metadata": {},
   "outputs": [],
   "source": [
    "class Student(object):\n",
    "\n",
    "    def __init__(self, first_name, last_name):\n",
    "        self.first_name = first_name\n",
    "        self.last_name = last_name\n",
    "\n",
    "    @classmethod\n",
    "    def from_string(cls, name_str):\n",
    "        first_name, last_name = map(str, name_str.split(' '))\n",
    "        student = cls(first_name, last_name)\n",
    "        return student\n",
    "\n",
    "scott = Student.from_string('Scott Robinson')"
   ]
  },
  {
   "cell_type": "code",
   "execution_count": 6,
   "metadata": {},
   "outputs": [
    {
     "data": {
      "text/plain": [
       "'Scott'"
      ]
     },
     "execution_count": 6,
     "metadata": {},
     "output_type": "execute_result"
    }
   ],
   "source": [
    "scott.first_name"
   ]
  },
  {
   "cell_type": "code",
   "execution_count": 27,
   "metadata": {},
   "outputs": [
    {
     "name": "stdout",
     "output_type": "stream",
     "text": [
      "Got grades: <map object at 0x7f5d7c8c9588>\n",
      "Invalid!\n"
     ]
    }
   ],
   "source": [
    "class ClassGrades:\n",
    "\n",
    "    def __init__(self, grades):\n",
    "        self.grades = grades\n",
    "\n",
    "    @classmethod\n",
    "    def from_csv(cls, grade_csv_str):\n",
    "        grades = map(int, grade_csv_str.split(', '))\n",
    "        \n",
    "        cls.validate(grades)\n",
    "        return cls(grades)\n",
    "\n",
    "\n",
    "    @staticmethod\n",
    "    def validate(grades):\n",
    "        for g in grades:\n",
    "            if g < 0 or g > 100:\n",
    "                raise Exception()\n",
    "\n",
    "try:\n",
    "    # Try out some valid grades\n",
    "    class_grades_valid = ClassGrades.from_csv('90, 80, 85, 94, 70')\n",
    "    print ('Got grades:', class_grades_valid.grades)\n",
    "\n",
    "    # Should fail with invalid grades\n",
    "    class_grades_invalid = ClassGrades.from_csv('92, -15, 99, 101, 77, 65, 100')\n",
    "    print (class_grades_invalid.grades)\n",
    "except:\n",
    "    print ('Invalid!')"
   ]
  },
  {
   "cell_type": "code",
   "execution_count": 23,
   "metadata": {},
   "outputs": [],
   "source": [
    "st = '90, 80, 85, 94, 70'\n",
    "abc= map(int, st.split(', '))"
   ]
  },
  {
   "cell_type": "code",
   "execution_count": 26,
   "metadata": {},
   "outputs": [
    {
     "name": "stdout",
     "output_type": "stream",
     "text": [
      "90\n",
      "80\n",
      "85\n",
      "94\n",
      "70\n"
     ]
    }
   ],
   "source": [
    "for s in abc:\n",
    "    print (s)"
   ]
  },
  {
   "cell_type": "code",
   "execution_count": null,
   "metadata": {},
   "outputs": [],
   "source": []
  },
  {
   "cell_type": "code",
   "execution_count": null,
   "metadata": {},
   "outputs": [],
   "source": []
  }
 ],
 "metadata": {
  "kernelspec": {
   "display_name": "Python 3",
   "language": "python",
   "name": "python3"
  },
  "language_info": {
   "codemirror_mode": {
    "name": "ipython",
    "version": 3
   },
   "file_extension": ".py",
   "mimetype": "text/x-python",
   "name": "python",
   "nbconvert_exporter": "python",
   "pygments_lexer": "ipython3",
   "version": "3.6.8"
  }
 },
 "nbformat": 4,
 "nbformat_minor": 4
}
